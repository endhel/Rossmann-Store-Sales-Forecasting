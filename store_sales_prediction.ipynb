{
 "cells": [
  {
   "cell_type": "markdown",
   "id": "c129b594",
   "metadata": {},
   "source": [
    "# 0.0. Imports"
   ]
  },
  {
   "cell_type": "markdown",
   "id": "f0058d97",
   "metadata": {},
   "source": [
    "## 0.1. Helper Functions"
   ]
  },
  {
   "cell_type": "markdown",
   "id": "cf3aa718",
   "metadata": {},
   "source": [
    "## 0.2. Loading Data"
   ]
  },
  {
   "cell_type": "markdown",
   "id": "6b3d47d9",
   "metadata": {},
   "source": [
    "# 0.1. Data Description"
   ]
  },
  {
   "cell_type": "markdown",
   "id": "89a6f10a",
   "metadata": {},
   "source": [
    "## 0.1. "
   ]
  },
  {
   "cell_type": "markdown",
   "id": "159a70bb",
   "metadata": {},
   "source": [
    "## 0.1. "
   ]
  },
  {
   "cell_type": "markdown",
   "id": "41bc89cf",
   "metadata": {},
   "source": [
    "## 0.1. "
   ]
  },
  {
   "cell_type": "markdown",
   "id": "bc4cb59b",
   "metadata": {},
   "source": [
    "## 0.1. "
   ]
  },
  {
   "cell_type": "markdown",
   "id": "8dab1ecb",
   "metadata": {},
   "source": [
    "## 0.1. "
   ]
  },
  {
   "cell_type": "markdown",
   "id": "9bd12f01",
   "metadata": {},
   "source": [
    "## 0.1. "
   ]
  },
  {
   "cell_type": "markdown",
   "id": "ec307ab4",
   "metadata": {},
   "source": [
    "## 0.1. "
   ]
  },
  {
   "cell_type": "markdown",
   "id": "d9222403",
   "metadata": {},
   "source": [
    "## 0.1. "
   ]
  },
  {
   "cell_type": "code",
   "execution_count": null,
   "id": "6fcce47e",
   "metadata": {},
   "outputs": [],
   "source": []
  }
 ],
 "metadata": {
  "kernelspec": {
   "display_name": "Python 3",
   "language": "python",
   "name": "python3"
  },
  "language_info": {
   "codemirror_mode": {
    "name": "ipython",
    "version": 3
   },
   "file_extension": ".py",
   "mimetype": "text/x-python",
   "name": "python",
   "nbconvert_exporter": "python",
   "pygments_lexer": "ipython3",
   "version": "3.8.3"
  },
  "varInspector": {
   "cols": {
    "lenName": 16,
    "lenType": 16,
    "lenVar": 40
   },
   "kernels_config": {
    "python": {
     "delete_cmd_postfix": "",
     "delete_cmd_prefix": "del ",
     "library": "var_list.py",
     "varRefreshCmd": "print(var_dic_list())"
    },
    "r": {
     "delete_cmd_postfix": ") ",
     "delete_cmd_prefix": "rm(",
     "library": "var_list.r",
     "varRefreshCmd": "cat(var_dic_list()) "
    }
   },
   "types_to_exclude": [
    "module",
    "function",
    "builtin_function_or_method",
    "instance",
    "_Feature"
   ],
   "window_display": false
  }
 },
 "nbformat": 4,
 "nbformat_minor": 5
}
